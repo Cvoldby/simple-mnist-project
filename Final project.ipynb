{
 "cells": [
  {
   "cell_type": "markdown",
   "id": "responsible-press",
   "metadata": {},
   "source": [
    "## Project IV - MNIST Image Classification\n",
    "\n",
    "Christian Voldby, 202004800"
   ]
  },
  {
   "cell_type": "code",
   "execution_count": 1,
   "id": "practical-airline",
   "metadata": {},
   "outputs": [],
   "source": [
    "# Imports\n",
    "import matplotlib.pyplot as plt\n",
    "import gzip\n",
    "import struct as st\n",
    "import json\n",
    "import random"
   ]
  },
  {
   "cell_type": "markdown",
   "id": "criminal-float",
   "metadata": {},
   "source": [
    "### a.\n",
    "\n",
    "The download is complete."
   ]
  },
  {
   "cell_type": "markdown",
   "id": "impressed-satellite",
   "metadata": {},
   "source": [
    "### b."
   ]
  },
  {
   "cell_type": "code",
   "execution_count": 2,
   "id": "small-squad",
   "metadata": {},
   "outputs": [],
   "source": [
    "def read_labels(filename):\n",
    "    \"\"\"\n",
    "    This function return a list of the labels from the MNIST file. \n",
    "    It uses the gzip module to open the file. \n",
    "    Since magic number must be 2049 for the MNIST file, the struct module is applied.\n",
    "    \n",
    "    \"\"\"\n",
    "    with gzip.open(filename, \"rb\") as f:\n",
    "        bytes = f.read(8)\n",
    "        magic, size = st.unpack(\">II\", bytes)\n",
    "        if magic != 2049:\n",
    "            return \"The magic number does not match the MNIST file.\"\n",
    "        data = f.read()\n",
    "        return list(data)"
   ]
  },
  {
   "cell_type": "code",
   "execution_count": 3,
   "id": "impressive-vector",
   "metadata": {},
   "outputs": [
    {
     "name": "stdout",
     "output_type": "stream",
     "text": [
      "[7, 2, 1, 0, 4, 1, 4, 9, 5, 9]\n",
      "[5, 0, 4, 1, 9, 2, 1, 3, 1, 4]\n"
     ]
    }
   ],
   "source": [
    "t10k_labels = read_labels(\"./t10k-labels-idx1-ubyte.gz\")\n",
    "\n",
    "print(t10k_labels[:10])\n",
    "\n",
    "train_labels = read_labels(\"./train-labels-idx1-ubyte.gz\")\n",
    "\n",
    "print(train_labels[:10])"
   ]
  },
  {
   "cell_type": "markdown",
   "id": "annoying-solomon",
   "metadata": {},
   "source": [
    "### c."
   ]
  },
  {
   "cell_type": "code",
   "execution_count": 4,
   "id": "threaded-bible",
   "metadata": {},
   "outputs": [],
   "source": [
    "def read_images(filename):\n",
    "    \"\"\"\n",
    "    This function return a list of lists of the images from the MNIST file.\n",
    "    The return list is constructed such images[image][row][column].\n",
    "    \n",
    "    The gzip module is used to open the file.\n",
    "    The struct module is used to check the magic number of the input file.\n",
    "    \n",
    "    \"\"\"\n",
    "    with gzip.open(filename, \"rb\") as f:\n",
    "        bytes = f.read(8)\n",
    "        magic, size = st.unpack(\">II\", bytes)\n",
    "        if magic != 2051:\n",
    "            return \"The magic number does not match the MNIST file\"\n",
    "        data = f.read()\n",
    "        data = list(data[8:])\n",
    "        data = [[data[28 * i + j] for j in range(28)] for i in range(len(data) // 28)]\n",
    "        data = [data[28 * i : 28 * (i + 1)] for i in range(len(data) // 28)]\n",
    "        return data"
   ]
  },
  {
   "cell_type": "code",
   "execution_count": 5,
   "id": "central-excuse",
   "metadata": {},
   "outputs": [],
   "source": [
    "t10k_images = read_images(\"./t10k-images-idx3-ubyte.gz\")\n",
    "\n",
    "train_images = read_images(\"./train-images-idx3-ubyte.gz\")"
   ]
  },
  {
   "cell_type": "markdown",
   "id": "precious-secret",
   "metadata": {},
   "source": [
    "### d.\n"
   ]
  },
  {
   "cell_type": "code",
   "execution_count": 6,
   "id": "offensive-sierra",
   "metadata": {},
   "outputs": [],
   "source": [
    "def plot_images(images, labels):\n",
    "    \"\"\"\n",
    "    This function plots the images and related labels in a heatmap. \n",
    "    \n",
    "    The module matplotlib.pyplot is used.\n",
    "    \"\"\"\n",
    "    for i in range(len(labels)):\n",
    "        plt.imshow(images[i], cmap = \"OrRd\")\n",
    "        plt.title(labels[i])\n",
    "        plt.colorbar().set_ticks([])\n",
    "        plt.axis(\"off\")\n",
    "        plt.show()"
   ]
  },
  {
   "cell_type": "code",
   "execution_count": 7,
   "id": "latest-investigation",
   "metadata": {},
   "outputs": [
    {
     "data": {
      "image/png": "[encoded data removed]",
      "text/plain": [
       "<Figure size 432x288 with 2 Axes>"
      ]
     },
     "metadata": {
      "needs_background": "light"
     },
     "output_type": "display_data"
    },
    {
     "data": {
      "image/png": "[encoded data removed]",
      "text/plain": [
       "<Figure size 432x288 with 2 Axes>"
      ]
     },
     "metadata": {
      "needs_background": "light"
     },
     "output_type": "display_data"
    },
    {
     "data": {
      "image/png": "[encoded data removed]",
      "text/plain": [
       "<Figure size 432x288 with 2 Axes>"
      ]
     },
     "metadata": {
      "needs_background": "light"
     },
     "output_type": "display_data"
    },
    {
     "data": {
      "image/png": "[encoded data removed]",
      "text/plain": [
       "<Figure size 432x288 with 2 Axes>"
      ]
     },
     "metadata": {
      "needs_background": "light"
     },
     "output_type": "display_data"
    },
    {
     "data": {
      "image/png": "[encoded data removed]",
      "text/plain": [
       "<Figure size 432x288 with 2 Axes>"
      ]
     },
     "metadata": {
      "needs_background": "light"
     },
     "output_type": "display_data"
    }
   ],
   "source": [
    "plot_images(t10k_images[:5], t10k_labels[:5])"
   ]
  },
  {
   "cell_type": "markdown",
   "id": "moving-bookmark",
   "metadata": {},
   "source": [
    "### F.\n"
   ]
  },
  {
   "cell_type": "code",
   "execution_count": 8,
   "id": "scenic-position",
   "metadata": {},
   "outputs": [],
   "source": [
    "def linear_load(file_name):\n",
    "    \"\"\"\n",
    "    This function loads a linear classifier - a network. In this case a weights file.\n",
    "    \n",
    "    The JSON module is used.\n",
    "    \n",
    "    \"\"\"\n",
    "    with open(file_name) as f:\n",
    "        data = json.load(f)\n",
    "        return data"
   ]
  },
  {
   "cell_type": "code",
   "execution_count": 9,
   "id": "reserved-nirvana",
   "metadata": {},
   "outputs": [],
   "source": [
    "def linear_save(file_name, network):\n",
    "    \"\"\"\n",
    "    This functions saves a linear classifier.\n",
    "    \n",
    "    The JSON module is used.\n",
    "    \"\"\"\n",
    "    with open(file_name, \"w\") as outfile:\n",
    "        outfile.write(json.dumps(network))"
   ]
  },
  {
   "cell_type": "code",
   "execution_count": 10,
   "id": "stone-proceeding",
   "metadata": {},
   "outputs": [],
   "source": [
    "network = linear_load(\"./mnist_linear.weights\")"
   ]
  },
  {
   "cell_type": "markdown",
   "id": "smoking-modern",
   "metadata": {},
   "source": [
    "### g.\n",
    "\n",
    "Image_to_vector(image)"
   ]
  },
  {
   "cell_type": "code",
   "execution_count": 11,
   "id": "friendly-investment",
   "metadata": {},
   "outputs": [],
   "source": [
    "def image_to_vector(image):\n",
    "    \"\"\"\n",
    "    This function return a image vector. \n",
    "    It turns a list of lists to a list and turns the values to floats [0,1]\n",
    "    \"\"\"\n",
    "    image_vector = []\n",
    "    for i in range(28):\n",
    "        for j in range(28):\n",
    "            image_vector.append(image[i][j] / 255)\n",
    "    return image_vector"
   ]
  },
  {
   "cell_type": "markdown",
   "id": "asian-acting",
   "metadata": {},
   "source": [
    "### h."
   ]
  },
  {
   "cell_type": "code",
   "execution_count": 12,
   "id": "helpful-staff",
   "metadata": {},
   "outputs": [],
   "source": [
    "def add(U, V):\n",
    "    \"\"\"\n",
    "    This function adds two vectors together and return the result in a new vector.\n",
    "    \"\"\"\n",
    "    assert len(U) == len(V), \"The dimensions of the vectors does not match\"\n",
    "    W = []\n",
    "    for i in range(len(U)):\n",
    "        W.append(U[i] + V[i])\n",
    "    return W"
   ]
  },
  {
   "cell_type": "code",
   "execution_count": 13,
   "id": "nasty-collaboration",
   "metadata": {},
   "outputs": [],
   "source": [
    "def sub(U, V):\n",
    "    \"\"\"\n",
    "    This function subtracts two vectors and return the result in a new vector.\n",
    "    \"\"\"\n",
    "    assert len(U) == len(V), \"The dimensions of the vectors does not match\"\n",
    "    W = []\n",
    "    for i in range(len(U)):\n",
    "        W.append(U[i] - V[i])\n",
    "    return W"
   ]
  },
  {
   "cell_type": "code",
   "execution_count": 14,
   "id": "taken-external",
   "metadata": {},
   "outputs": [],
   "source": [
    "def scalar_multiplication(scalar, V):\n",
    "    \"\"\"\n",
    "    This function performs scalar multiplication.\n",
    "    \"\"\"\n",
    "    W = []\n",
    "    for i in range(len(V)):\n",
    "        W.append(scalar * V[i])\n",
    "    return W"
   ]
  },
  {
   "cell_type": "code",
   "execution_count": 15,
   "id": "reasonable-billion",
   "metadata": {},
   "outputs": [],
   "source": [
    "def multiply(V, M):\n",
    "    \"\"\"\n",
    "    This function multiplies a vector onto a matrix.\n",
    "    \"\"\"\n",
    "    assert len(V) == len(M), \"The dimensions does not fit\"\n",
    "    W = []\n",
    "    for i in range(len(M[0])):\n",
    "        res = 0\n",
    "        for j in range(len(M)):\n",
    "            res += V[j] * M[j][i]\n",
    "        W.append(res)\n",
    "    return W"
   ]
  },
  {
   "cell_type": "code",
   "execution_count": 16,
   "id": "young-socket",
   "metadata": {},
   "outputs": [],
   "source": [
    "def transpose(M):\n",
    "    \"\"\"\n",
    "    This function transposes a matrix.\n",
    "    \"\"\"\n",
    "    M1 = []\n",
    "    for i in range(len(M[0])):\n",
    "        for j in range(len(M)):\n",
    "            M1.append(M[j][i])\n",
    "    M1 = [[M1[len(M) * i + j] for j in range(len(M))] for i in range(len(M1) // len(M))]\n",
    "    return M1\n",
    "            "
   ]
  },
  {
   "cell_type": "markdown",
   "id": "comparable-removal",
   "metadata": {},
   "source": [
    "### i.\n",
    "\n"
   ]
  },
  {
   "cell_type": "code",
   "execution_count": 17,
   "id": "finnish-liver",
   "metadata": {},
   "outputs": [],
   "source": [
    "def mean_square_error(U, V):\n",
    "    \"\"\"\n",
    "    This function calculates the MSE between two vectors.\n",
    "    \"\"\"\n",
    "    assert len(U) == len(V)\n",
    "    \n",
    "    sm = 0\n",
    "    for i in range(len(U)):\n",
    "        sm += (U[i] - V[i]) ** 2\n",
    "    sm /= 10\n",
    "    return sm\n",
    "    "
   ]
  },
  {
   "cell_type": "markdown",
   "id": "composed-niger",
   "metadata": {},
   "source": [
    "### j.\n",
    "\n"
   ]
  },
  {
   "cell_type": "code",
   "execution_count": 18,
   "id": "comprehensive-pressure",
   "metadata": {},
   "outputs": [],
   "source": [
    "def argmax(V):\n",
    "    \"\"\"\n",
    "    This function returns the index of the maximal value of a list.\n",
    "    \"\"\"\n",
    "    return list.index(V, max(V))"
   ]
  },
  {
   "cell_type": "markdown",
   "id": "assisted-functionality",
   "metadata": {},
   "source": [
    "### k.\n",
    "\n"
   ]
  },
  {
   "cell_type": "code",
   "execution_count": 19,
   "id": "classical-trail",
   "metadata": {},
   "outputs": [],
   "source": [
    "def categorical(label, classes = 10):\n",
    "    \"\"\"\n",
    "    This function returns a vector of length classes with all entries being 0 expect entry label.\n",
    "    \n",
    "    \"\"\"\n",
    "    L = []\n",
    "    for i in range(classes):\n",
    "        if i == label:\n",
    "            L.append(1)\n",
    "        else:\n",
    "            L.append(0)\n",
    "    return L"
   ]
  },
  {
   "cell_type": "markdown",
   "id": "loving-merchandise",
   "metadata": {},
   "source": [
    "### l.\n"
   ]
  },
  {
   "cell_type": "code",
   "execution_count": 20,
   "id": "thrown-fighter",
   "metadata": {},
   "outputs": [],
   "source": [
    "def predict(network, image):\n",
    "    \"\"\"\n",
    "    This function returns xA + b given a network and a image vector.\n",
    "    \n",
    "    \"\"\"\n",
    "    return add(multiply(image, network[0]), network[1])"
   ]
  },
  {
   "cell_type": "markdown",
   "id": "increasing-continent",
   "metadata": {},
   "source": [
    "### m.\n"
   ]
  },
  {
   "cell_type": "code",
   "execution_count": 21,
   "id": "faced-identification",
   "metadata": {},
   "outputs": [],
   "source": [
    "def evaluate(network, images, labels):\n",
    "    \"\"\"\n",
    "    This function returns a tuple of predictions, cost and accuracy.\n",
    "    \n",
    "    The function evaluate the network.\n",
    "    \n",
    "    \"\"\"\n",
    "    predictions = []\n",
    "    for i in range(len(images)):\n",
    "        predictions.append(argmax(predict(network, image_to_vector(images[i]))))\n",
    "    \n",
    "    cost = []\n",
    "    for i in range(len(images)):\n",
    "        cost.append(mean_square_error(predict(network, image_to_vector(images[i])), categorical(labels[i])))\n",
    "    cost = sum(cost) / len(cost)\n",
    "    \n",
    "    accuracy = sum(map(lambda x: x == 0, sub(predictions, labels))) / len(labels)\n",
    "    \n",
    "    return (predictions, cost, accuracy)"
   ]
  },
  {
   "cell_type": "code",
   "execution_count": 22,
   "id": "working-activity",
   "metadata": {},
   "outputs": [
    {
     "name": "stdout",
     "output_type": "stream",
     "text": [
      "(230.27520330872153, 0.926)\n"
     ]
    }
   ],
   "source": [
    "print(evaluate(network, t10k_images, t10k_labels)[1:])"
   ]
  },
  {
   "cell_type": "markdown",
   "id": "hired-johnston",
   "metadata": {},
   "source": [
    "### n.\n",
    "\n"
   ]
  },
  {
   "cell_type": "code",
   "execution_count": 23,
   "id": "trying-operation",
   "metadata": {},
   "outputs": [],
   "source": [
    "def plot_images_prediction(images, labels, predictions = None):\n",
    "    \"\"\"\n",
    "    This functions extends the previous plot_images function with a optional prediction argument.\n",
    "\n",
    "    \"\"\"\n",
    "    for i in range(len(labels)):\n",
    "        plt.imshow(images[i], cmap = \"OrRd\")\n",
    "        if predictions != None:\n",
    "            plt.title((labels[i], \"The prediction:\", predictions[i]))\n",
    "        else:\n",
    "            plt.title(labels[i])\n",
    "        plt.colorbar().set_ticks([])\n",
    "        plt.axis(\"off\")\n",
    "        plt.show()\n",
    "    "
   ]
  },
  {
   "cell_type": "markdown",
   "id": "literary-progressive",
   "metadata": {},
   "source": [
    "### o."
   ]
  },
  {
   "cell_type": "code",
   "execution_count": 24,
   "id": "hungarian-student",
   "metadata": {},
   "outputs": [
    {
     "data": {
      "image/png": "[encoded data removed]",
      "text/plain": [
       "<Figure size 432x288 with 2 Axes>"
      ]
     },
     "metadata": {
      "needs_background": "light"
     },
     "output_type": "display_data"
    },
    {
     "data": {
      "image/png": "[encoded data removed]",
      "text/plain": [
       "<Figure size 432x288 with 2 Axes>"
      ]
     },
     "metadata": {
      "needs_background": "light"
     },
     "output_type": "display_data"
    },
    {
     "data": {
      "image/png": "[encoded data removed]",
      "text/plain": [
       "<Figure size 432x288 with 2 Axes>"
      ]
     },
     "metadata": {
      "needs_background": "light"
     },
     "output_type": "display_data"
    },
    {
     "data": {
      "image/png": "[encoded data removed]",
      "text/plain": [
       "<Figure size 432x288 with 2 Axes>"
      ]
     },
     "metadata": {
      "needs_background": "light"
     },
     "output_type": "display_data"
    },
    {
     "data": {
      "image/png": "[encoded data removed]",
      "text/plain": [
       "<Figure size 432x288 with 2 Axes>"
      ]
     },
     "metadata": {
      "needs_background": "light"
     },
     "output_type": "display_data"
    },
    {
     "data": {
      "image/png": "[encoded data removed]",
      "text/plain": [
       "<Figure size 432x288 with 2 Axes>"
      ]
     },
     "metadata": {
      "needs_background": "light"
     },
     "output_type": "display_data"
    },
    {
     "data": {
      "image/png": "[encoded data removed]",
      "text/plain": [
       "<Figure size 432x288 with 2 Axes>"
      ]
     },
     "metadata": {
      "needs_background": "light"
     },
     "output_type": "display_data"
    },
    {
     "data": {
      "image/png": "[encoded data removed]",
      "text/plain": [
       "<Figure size 432x288 with 2 Axes>"
      ]
     },
     "metadata": {
      "needs_background": "light"
     },
     "output_type": "display_data"
    },
    {
     "data": {
      "image/png": "[encoded data removed]",
      "text/plain": [
       "<Figure size 432x288 with 2 Axes>"
      ]
     },
     "metadata": {
      "needs_background": "light"
     },
     "output_type": "display_data"
    },
    {
     "data": {
      "image/png": "[encoded data removed]",
      "text/plain": [
       "<Figure size 432x288 with 2 Axes>"
      ]
     },
     "metadata": {
      "needs_background": "light"
     },
     "output_type": "display_data"
    }
   ],
   "source": [
    "for i in range(10):\n",
    "    m = []\n",
    "    for j in range(784):\n",
    "        m.append(network[0][j][i])\n",
    "    m = [[m[28 * i + j] for j in range(28)] for i in range(len(m) // 28)]\n",
    "    plt.imshow(m, cmap = \"magma\")\n",
    "    plt.title(i)\n",
    "    plt.colorbar().set_ticks([])\n",
    "    plt.axis(\"off\")\n",
    "    plt.show()"
   ]
  },
  {
   "cell_type": "markdown",
   "id": "handed-cyprus",
   "metadata": {},
   "source": [
    "### p.\n"
   ]
  },
  {
   "cell_type": "code",
   "execution_count": 25,
   "id": "ethical-hammer",
   "metadata": {},
   "outputs": [],
   "source": [
    "def create_batches(values, batch_size):\n",
    "    \"\"\"\n",
    "    This function partitions a list of values into batches. \n",
    "    The list is permuted prior to being cut into batches.\n",
    "    \n",
    "    The random module is used.\n",
    "    \"\"\"\n",
    "    random.shuffle(values)\n",
    "    \n",
    "    batches = [values[i * batch_size:(i + 1) * batch_size] for i in range((len(values) + batch_size - 1) // batch_size)]\n",
    "    \n",
    "    return batches"
   ]
  },
  {
   "cell_type": "markdown",
   "id": "spoken-school",
   "metadata": {},
   "source": [
    "### q.\n",
    "\n"
   ]
  },
  {
   "cell_type": "code",
   "execution_count": 26,
   "id": "leading-elevation",
   "metadata": {},
   "outputs": [],
   "source": [
    "def update(network, images, labels):\n",
    "    \"\"\"\n",
    "    This function return a updated network.\n",
    "    \"\"\"\n",
    "    step_size = 0.1\n",
    "    n = len(images)\n",
    "    c = step_size * (1 / n)\n",
    "    \n",
    "    b = network[1]\n",
    "    A = network[0]\n",
    "    \n",
    "    for k in range(n):\n",
    "        x = image_to_vector(images[k])\n",
    "        a = predict(network, x)\n",
    "        y = categorical(labels[k])\n",
    "        t = (x, a, y)\n",
    "        \n",
    "        for j in range(10):\n",
    "            b[j] -= c * 2 * (a[j] - y[j]) / 10\n",
    "        \n",
    "        for i in range(784):\n",
    "            for j in range(10):\n",
    "                A[i][j] -= c * x[i] * 2 * (a[j] - y[j]) / 10\n",
    "    \n",
    "    return network\n",
    "    "
   ]
  },
  {
   "cell_type": "markdown",
   "id": "looking-brisbane",
   "metadata": {},
   "source": [
    "### r.\n",
    "\n"
   ]
  },
  {
   "cell_type": "code",
   "execution_count": 27,
   "id": "pacific-accessory",
   "metadata": {},
   "outputs": [],
   "source": [
    "def learn(images, labels, epochs = 5, batch_size = 100):\n",
    "    \"\"\"\n",
    "    This function teaches a random network. \n",
    "    \n",
    "    The random module is used.\n",
    "    \"\"\"\n",
    "    b = [random.uniform(0, 1) for i in range(10)]\n",
    "    A = [[random.uniform(0, 1 / 784) for j in range(10)] for i in range(784)]\n",
    "    network = [A,b]\n",
    "    \n",
    "    L = []\n",
    "    \n",
    "    for i in range(len(labels)):\n",
    "        L.append([labels[i], images[i]])\n",
    "    \n",
    "    for _ in range(epochs):\n",
    "        lst = create_batches(L, batch_size)\n",
    "        for i in range(len(lst) // batch_size):\n",
    "            images1 = []\n",
    "            labels1 = []\n",
    "            for j in range(batch_size):\n",
    "                images1.append(lst[i][j][1])\n",
    "                labels1.append(lst[i][j][0])\n",
    "            n0 = network\n",
    "            ev0 = evaluate(n0, t10k_images, t10k_labels)\n",
    "            n1 = update(n0, images1, labels1)\n",
    "            ev1 = evaluate(n1, t10k_images, t10k_labels)\n",
    "            if ev0[2] < ev1[2]:\n",
    "                linear_save(\"learn.weights\", n1)\n",
    "                print(ev1[1:])\n",
    "                network = n1\n",
    "            else:\n",
    "                linear_save(\"learn.weights\", n0)\n",
    "                print(ev0[1:])\n",
    "            \n",
    "    return evaluate(network, t10k_images, t10k_labels)[1:]\n",
    "    "
   ]
  },
  {
   "cell_type": "code",
   "execution_count": 28,
   "id": "metropolitan-alfred",
   "metadata": {},
   "outputs": [
    {
     "name": "stdout",
     "output_type": "stream",
     "text": [
      "(0.15728649404036524, 0.1589)\n",
      "(0.10732326629008894, 0.3867)\n",
      "(0.0957514878382189, 0.5295)\n",
      "(0.0957514878382189, 0.5295)\n",
      "(0.08957470652889343, 0.5679)\n",
      "(0.08957470652889343, 0.5679)\n",
      "(0.08532715302301105, 0.6277)\n",
      "(0.08532715302301105, 0.6277)\n",
      "(0.08186681273815147, 0.6582)\n",
      "(0.08186681273815147, 0.6582)\n",
      "(0.07927971965983849, 0.6697)\n",
      "(0.07927971965983849, 0.6697)\n",
      "(0.07701153969212396, 0.6793)\n",
      "(0.07701153969212396, 0.6793)\n",
      "(0.07514773438145012, 0.6836)\n",
      "(0.07411430158120173, 0.6918)\n",
      "(0.07411430158120173, 0.6918)\n",
      "(0.07311061175858813, 0.6854)\n",
      "(0.0716692962486345, 0.6881)\n",
      "(0.07127533093870315, 0.6916)\n",
      "(0.07050506743544781, 0.7118)\n",
      "(0.069678787158046, 0.7148)\n",
      "(0.069678787158046, 0.7148)\n",
      "(0.0692453266634583, 0.7123)\n",
      "(0.06845618071073023, 0.7196)\n",
      "(0.06845618071073023, 0.7196)\n",
      "(0.06744304994689249, 0.7238)\n",
      "(0.06744304994689249, 0.7238)\n",
      "(0.06678329198730773, 0.7253)\n",
      "(0.06633980912883283, 0.7324)\n"
     ]
    },
    {
     "data": {
      "text/plain": [
       "(0.06633980912883283, 0.7324)"
      ]
     },
     "execution_count": 28,
     "metadata": {},
     "output_type": "execute_result"
    }
   ],
   "source": [
    "learn(train_images, train_labels, epochs = 5, batch_size = 100)"
   ]
  }
 ],
 "metadata": {
  "kernelspec": {
   "display_name": "Python 3",
   "language": "python",
   "name": "python3"
  },
  "language_info": {
   "codemirror_mode": {
    "name": "ipython",
    "version": 3
   },
   "file_extension": ".py",
   "mimetype": "text/x-python",
   "name": "python",
   "nbconvert_exporter": "python",
   "pygments_lexer": "ipython3",
   "version": "3.9.2"
  }
 },
 "nbformat": 4,
 "nbformat_minor": 5
}
